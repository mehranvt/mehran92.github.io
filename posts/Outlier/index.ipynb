{
  "cells": [
    {
      "cell_type": "raw",
      "metadata": {},
      "source": [
        "---\n",
        "title: \"Outlier\"\n",
        "author: \"Mehran Islam\"\n",
        "date: \"2023-12-07\"\n",
        "categories: [code, analysis]\n",
        "image: \"image.jpg\"\n",
        "---"
      ],
      "id": "363323c5"
    },
    {
      "cell_type": "markdown",
      "metadata": {},
      "source": [
        "Importing libraries\n"
      ],
      "id": "b778a9ff"
    },
    {
      "cell_type": "code",
      "metadata": {},
      "source": [
        "import pandas as pd\n",
        "import numpy as np\n",
        "import matplotlib.pyplot as pl\n",
        "import seaborn as sns"
      ],
      "id": "d84d9fc3",
      "execution_count": null,
      "outputs": []
    },
    {
      "cell_type": "markdown",
      "metadata": {},
      "source": [
        "Read the data\n"
      ],
      "id": "b1d75c84"
    },
    {
      "cell_type": "code",
      "metadata": {},
      "source": [
        "import pandas as pd\n",
        "\n",
        "# Read the data\n",
        "data = pd.read_csv('Cricket_data.csv', sep='\\t')\n",
        "\n",
        "# Display the first few rows of the data\n",
        "data"
      ],
      "id": "724184df",
      "execution_count": null,
      "outputs": []
    },
    {
      "cell_type": "markdown",
      "metadata": {},
      "source": [
        "Identify null data\n"
      ],
      "id": "9f76b06d"
    },
    {
      "cell_type": "code",
      "metadata": {},
      "source": [
        "data.apply(pd.isnull).sum()/data.shape[0]"
      ],
      "id": "2af674fa",
      "execution_count": null,
      "outputs": []
    },
    {
      "cell_type": "code",
      "metadata": {},
      "source": [
        "data.describe(include='object')"
      ],
      "id": "5b0e12dd",
      "execution_count": null,
      "outputs": []
    },
    {
      "cell_type": "code",
      "metadata": {},
      "source": [
        "cricket=data[[\"Player\",\"Span\",\"Mat\",\"Inn\",\"Runs\",\"Highest_Score\",\"Avg\",\"100\",\"50\"]].copy()\n",
        "cricket.columns=[\"player\",\"span\",\"mat\",\"inn\",\"runs\",\"HS\",\"avg\",\"100\",\"50\"]\n",
        "cricket.head()"
      ],
      "id": "11d8a7f6",
      "execution_count": null,
      "outputs": []
    },
    {
      "cell_type": "markdown",
      "metadata": {},
      "source": [
        "converting to numerical int data\n"
      ],
      "id": "a087aee1"
    },
    {
      "cell_type": "code",
      "metadata": {},
      "source": [
        "# Convert the 'runs' column to a numeric data type (int)\n",
        "cricket['runs'] = cricket['runs'].str.replace(',', '', regex=True).str.extract('(\\d+)').astype(float)\n",
        "\n",
        "# Filter the data to select players with more than 5000 runs\n",
        "batsman = cricket[cricket['runs'] > 2000]\n",
        "\n",
        "# Display the filtered data in column form\n",
        "batsman.head()"
      ],
      "id": "3aeb76d2",
      "execution_count": null,
      "outputs": []
    },
    {
      "cell_type": "code",
      "metadata": {},
      "source": [
        "# Use .loc to update the 'Player' column\n",
        "batsman.loc[:, 'player'] = batsman['player'].str.replace(r'\\s*\\(.*\\)', '', regex=True)\n",
        "\n",
        "# Display the DataFrame with the country names removed\n",
        "\n",
        "batsman.tail()"
      ],
      "id": "d2e51546",
      "execution_count": null,
      "outputs": []
    },
    {
      "cell_type": "code",
      "metadata": {},
      "source": [
        "# List of names to delete\n",
        "names_to_delete = ['SR Tendulkar', 'DG Bradman']\n",
        "\n",
        "# Filter out rows with the specified names\n",
        "batsman = batsman[~batsman['player'].isin(names_to_delete)]\n",
        "\n",
        "batsman.head()"
      ],
      "id": "968936a6",
      "execution_count": null,
      "outputs": []
    },
    {
      "cell_type": "code",
      "metadata": {},
      "source": [
        "#to save the players name for future \n",
        "player = batsman['player'].tolist()"
      ],
      "id": "48b48e7d",
      "execution_count": null,
      "outputs": []
    },
    {
      "cell_type": "code",
      "metadata": {},
      "source": [
        "# Split the 'span' values into start and end years\n",
        "batsman[['Start_Year', 'End_Year']] = batsman['span'].str.split('-', expand=True).astype(int)\n",
        "\n",
        "# Calculate the duration in years\n",
        "batsman['Span_yrs'] = batsman['End_Year'] - batsman['Start_Year'] + 1  # Adding 1 to include both start and end years\n",
        "\n",
        "# Display the DataFrame with the duration calculated\n",
        "batsman"
      ],
      "id": "a6b770e3",
      "execution_count": null,
      "outputs": []
    },
    {
      "cell_type": "code",
      "metadata": {},
      "source": [
        "#sns.pairplot(batsman)\n",
        "#pl.show()"
      ],
      "id": "42150e1c",
      "execution_count": null,
      "outputs": []
    },
    {
      "cell_type": "code",
      "metadata": {},
      "source": [
        "batsman = batsman.drop(['player'], axis = 1)\n",
        "batsman.head()"
      ],
      "id": "8eb65970",
      "execution_count": null,
      "outputs": []
    },
    {
      "cell_type": "code",
      "metadata": {},
      "source": [
        "columns=[\"runs\",\"avg\",\"100\"]"
      ],
      "id": "3ff93342",
      "execution_count": null,
      "outputs": []
    },
    {
      "cell_type": "code",
      "metadata": {},
      "source": [
        "from sklearn.preprocessing import MinMaxScaler\n",
        "from sklearn.decomposition import PCA\n",
        "\n",
        "# Initialize PCA with the number of components you want to retain\n",
        "n_components = 2  # Adjust as needed\n",
        "pca = PCA(n_components=n_components)\n",
        "\n",
        "# Initialize the MinMaxScaler\n",
        "scaler = MinMaxScaler()\n",
        "\n",
        "# Apply Min-Max scaling to your data\n",
        "scaled_data = scaler.fit_transform(batsman[columns])\n",
        "\n",
        "# Fit and transform PCA on the scaled data\n",
        "batter = pca.fit_transform(scaled_data)\n",
        "\n",
        "batter"
      ],
      "id": "715973fa",
      "execution_count": null,
      "outputs": []
    },
    {
      "cell_type": "code",
      "metadata": {},
      "source": [
        "explained_variance = pca.explained_variance_ratio_\n",
        "print(\"Explained variance ratio:\", explained_variance)"
      ],
      "id": "b0f3a681",
      "execution_count": null,
      "outputs": []
    },
    {
      "cell_type": "code",
      "metadata": {},
      "source": [
        "pl.scatter(batter[:, 0], batter[:, 1])\n",
        "pl.xlabel('Principal Component 1')\n",
        "pl.ylabel('Principal Component 2')\n",
        "pl.title('PCA Results')\n",
        "pl.show()"
      ],
      "id": "81d3c122",
      "execution_count": null,
      "outputs": []
    },
    {
      "cell_type": "code",
      "metadata": {},
      "source": [
        "component_loadings = pca.components_\n",
        "print(\"Principal component loadings:\", component_loadings)"
      ],
      "id": "2eb28aff",
      "execution_count": null,
      "outputs": []
    },
    {
      "cell_type": "code",
      "metadata": {},
      "source": [
        "from sklearn.cluster import DBSCAN\n",
        "from sklearn.metrics import silhouette_score\n",
        "\n",
        "\n",
        "# Your data\n",
        "X = batter  # Your data points\n",
        "\n",
        "best_eps = None\n",
        "best_min_samples = None\n",
        "best_score = -1\n",
        "\n",
        "for eps in np.arange(0.1, 1.0, 0.1):  # Adjust the range as needed\n",
        "    for min_samples in range(2, 11):  # Adjust the range as needed\n",
        "        dbscan = DBSCAN(eps=eps, min_samples=min_samples)\n",
        "        labels = dbscan.fit_predict(X)\n",
        "        if len(set(labels)) > 1:  # Ensure more than one cluster is formed\n",
        "            score = silhouette_score(X, labels)\n",
        "            if score > best_score:\n",
        "                best_score = score\n",
        "                best_eps = eps\n",
        "                best_min_samples = min_samples\n",
        "\n",
        "print(f\"Best eps: {best_eps}, Best min_samples: {best_min_samples}, Best Silhouette Score: {best_score}\")"
      ],
      "id": "3e9e5eb4",
      "execution_count": null,
      "outputs": []
    },
    {
      "cell_type": "code",
      "metadata": {},
      "source": [
        "from sklearn.cluster import DBSCAN\n",
        "\n",
        "# Initialize DBSCAN\n",
        "dbscan = DBSCAN(eps=0.2, min_samples=2)\n",
        "\n",
        "# Fit DBSCAN on the PCA-transformed data\n",
        "cluster_labels = dbscan.fit_predict(batter)\n",
        "\n",
        "\n",
        "pl.scatter(batter[:, 0], batter[:, 1], c=cluster_labels, cmap='viridis')\n",
        "pl.xlabel('Principal Component 1')\n",
        "pl.ylabel('Principal Component 2')\n",
        "pl.title('DBSCAN Clustering Results')\n",
        "pl.show()"
      ],
      "id": "c9f65ca8",
      "execution_count": null,
      "outputs": []
    },
    {
      "cell_type": "code",
      "metadata": {},
      "source": [
        "# Assuming 'player' contains the player names and 'cluster_labels' contains the cluster assignments\n",
        "# Create a new DataFrame to combine the results\n",
        "new_batsman = pd.DataFrame({'x': batter[:, 0], 'y': batter[:, 1], 'cluster': cluster_labels, 'player': player})\n",
        "\n",
        "# Display the resulting DataFrame\n",
        "new_batsman"
      ],
      "id": "c62fc39d",
      "execution_count": null,
      "outputs": []
    },
    {
      "cell_type": "code",
      "metadata": {},
      "source": [
        "# Create a scatter plot with cluster labels\n",
        "pl.figure(figsize=(10, 6))\n",
        "ax = sns.scatterplot(x=\"x\", y=\"y\", hue=\"cluster\", data=new_batsman, palette=\"viridis\", s=100)\n",
        "\n",
        "# Add labels for individual data points\n",
        "for x, y, player, cluster in zip(new_batsman['x'], new_batsman['y'], new_batsman['player'], new_batsman['cluster']):\n",
        "    pl.text(x, y, player, fontsize=10, alpha=0.8)\n",
        "\n",
        "# Set the plot limits and labels\n",
        "ax.set(ylim=(-3, 3))\n",
        "pl.xlabel(\"Principal Component 1\", fontsize=15)\n",
        "pl.ylabel(\"Principal Component 2\", fontsize=15)\n",
        "\n",
        "# Show the legend\n",
        "pl.legend(title='Cluster', loc='upper right', labels=[f'Cluster {label}' for label in new_batsman['cluster'].unique()])\n",
        "\n",
        "# Display the plot\n",
        "pl.show()"
      ],
      "id": "562a2058",
      "execution_count": null,
      "outputs": []
    },
    {
      "cell_type": "code",
      "metadata": {},
      "source": [
        "import seaborn as sns\n",
        "import matplotlib.pyplot as plt\n",
        "from sklearn.preprocessing import MinMaxScaler\n",
        "\n",
        "# Set the style\n",
        "sns.set(style=\"white\")\n",
        "\n",
        "# Normalize the \"average\" values\n",
        "scaler = MinMaxScaler()\n",
        "batsman['avg_normalized'] = scaler.fit_transform(batsman[['avg']])\n",
        "\n",
        "# Create a scatter plot with cluster labels and manually set marker size based on \"average\" values\n",
        "plt.figure(figsize=(10, 6))\n",
        "ax = sns.scatterplot(x=\"x\", y=\"y\", hue=\"cluster\", data=new_batsman, palette=\"viridis\", sizes=(50, 500), size=batsman['avg_normalized'])\n",
        "\n",
        "# Add labels for individual data points\n",
        "for x, y, player, cluster in zip(new_batsman['x'], new_batsman['y'], new_batsman['player'], new_batsman['cluster']):\n",
        "    plt.text(x, y, player, fontsize=10, alpha=0.8)\n",
        "\n",
        "# Set the plot limits and labels\n",
        "ax.set(ylim=(-3, 3))\n",
        "plt.xlabel(\"Principal Component 1\", fontsize=15)\n",
        "plt.ylabel(\"Principal Component 2\", fontsize=15)\n",
        "\n",
        "# Show the legend\n",
        "plt.legend(title='Cluster', loc='best', labels=[f'Cluster {label}' for label in new_batsman['cluster'].unique()])\n",
        "\n",
        "# Display the plot\n",
        "plt.show()"
      ],
      "id": "21ebe93f",
      "execution_count": null,
      "outputs": []
    },
    {
      "cell_type": "code",
      "metadata": {},
      "source": [
        "import seaborn as sns\n",
        "import matplotlib.pyplot as plt\n",
        "from sklearn.preprocessing import MinMaxScaler\n",
        "\n",
        "# Set the style\n",
        "sns.set(style=\"white\")\n",
        "\n",
        "# Normalize the \"average\" values\n",
        "scaler = MinMaxScaler()\n",
        "batsman['100_normalized'] = scaler.fit_transform(batsman[['100']])\n",
        "\n",
        "# Create a scatter plot with cluster labels and manually set marker size based on \"average\" values\n",
        "plt.figure(figsize=(10, 6))\n",
        "ax = sns.scatterplot(x=\"x\", y=\"y\", hue=\"cluster\", data=new_batsman, palette=\"viridis\", sizes=(50, 500), size=batsman['100_normalized'])\n",
        "\n",
        "# Add labels for individual data points\n",
        "for x, y, player, cluster in zip(new_batsman['x'], new_batsman['y'], new_batsman['player'], new_batsman['cluster']):\n",
        "    plt.text(x, y, player, fontsize=10, alpha=0.8)\n",
        "\n",
        "# Set the plot limits and labels\n",
        "ax.set(ylim=(-3, 3))\n",
        "plt.xlabel(\"Principal Component 1\", fontsize=15)\n",
        "plt.ylabel(\"Principal Component 2\", fontsize=15)\n",
        "\n",
        "# Show the legend\n",
        "plt.legend(title='Cluster', loc='upper right', labels=[f'Cluster {label}' for label in new_batsman['cluster'].unique()])\n",
        "\n",
        "# Display the plot\n",
        "plt.show()"
      ],
      "id": "6e622f31",
      "execution_count": null,
      "outputs": []
    }
  ],
  "metadata": {
    "kernelspec": {
      "name": "python3",
      "language": "python",
      "display_name": "Python 3 (ipykernel)"
    }
  },
  "nbformat": 4,
  "nbformat_minor": 5
}