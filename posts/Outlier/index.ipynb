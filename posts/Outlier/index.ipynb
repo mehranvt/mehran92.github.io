{
  "cells": [
    {
      "cell_type": "raw",
      "metadata": {},
      "source": [
        "---\n",
        "title: \"Outlier\"\n",
        "author: \"Mehran Islam\"\n",
        "date: \"2023-12-07\"\n",
        "categories: [code, analysis]\n",
        "image: \"image.jpg\"\n",
        "---"
      ],
      "id": "44ba06b1"
    },
    {
      "cell_type": "markdown",
      "metadata": {},
      "source": [
        "Importing libraries\n"
      ],
      "id": "d41a4c60"
    },
    {
      "cell_type": "code",
      "metadata": {},
      "source": [
        "import pandas as pd\n",
        "import numpy as np\n",
        "import matplotlib.pyplot as pl\n",
        "import seaborn as sns"
      ],
      "id": "4e8c7574",
      "execution_count": null,
      "outputs": []
    },
    {
      "cell_type": "markdown",
      "metadata": {},
      "source": [
        "Read the data\n"
      ],
      "id": "a38e34a2"
    },
    {
      "cell_type": "code",
      "metadata": {},
      "source": [
        "import pandas as pd\n",
        "\n",
        "# Read the data\n",
        "data = pd.read_csv('Cricket_data.txt', sep='\\t')\n",
        "\n",
        "# Display the first few rows of the data\n",
        "data"
      ],
      "id": "d44992f3",
      "execution_count": null,
      "outputs": []
    },
    {
      "cell_type": "markdown",
      "metadata": {},
      "source": [
        "Identify null data\n"
      ],
      "id": "ba80ef39"
    },
    {
      "cell_type": "code",
      "metadata": {},
      "source": [
        "data.apply(pd.isnull).sum()/data.shape[0]"
      ],
      "id": "89931097",
      "execution_count": null,
      "outputs": []
    },
    {
      "cell_type": "code",
      "metadata": {},
      "source": [
        "data.describe(include='object')"
      ],
      "id": "e07977da",
      "execution_count": null,
      "outputs": []
    },
    {
      "cell_type": "code",
      "metadata": {},
      "source": [
        "cricket=data[[\"Player\",\"Span\",\"Mat\",\"Inn\",\"Runs\",\"Highest_Score\",\"Avg\",\"100\",\"50\"]].copy()\n",
        "cricket.columns=[\"player\",\"span\",\"mat\",\"inn\",\"runs\",\"HS\",\"avg\",\"100\",\"50\"]\n",
        "cricket.head()"
      ],
      "id": "8f7b314b",
      "execution_count": null,
      "outputs": []
    },
    {
      "cell_type": "markdown",
      "metadata": {},
      "source": [
        "converting to numerical int data\n"
      ],
      "id": "8187c45a"
    },
    {
      "cell_type": "code",
      "metadata": {},
      "source": [
        "# Convert the 'runs' column to a numeric data type (int)\n",
        "cricket['runs'] = cricket['runs'].str.replace(',', '', regex=True).str.extract('(\\d+)').astype(float)\n",
        "\n",
        "# Filter the data to select players with more than 5000 runs\n",
        "batsman = cricket[cricket['runs'] > 2000]\n",
        "\n",
        "# Display the filtered data in column form\n",
        "batsman.head()"
      ],
      "id": "d828d7b7",
      "execution_count": null,
      "outputs": []
    },
    {
      "cell_type": "code",
      "metadata": {},
      "source": [
        "# Use .loc to update the 'Player' column\n",
        "batsman.loc[:, 'player'] = batsman['player'].str.replace(r'\\s*\\(.*\\)', '', regex=True)\n",
        "\n",
        "# Display the DataFrame with the country names removed\n",
        "\n",
        "batsman.tail()"
      ],
      "id": "31de71fc",
      "execution_count": null,
      "outputs": []
    },
    {
      "cell_type": "code",
      "metadata": {},
      "source": [
        "# List of names to delete\n",
        "names_to_delete = ['SR Tendulkar', 'DG Bradman']\n",
        "\n",
        "# Filter out rows with the specified names\n",
        "batsman = batsman[~batsman['player'].isin(names_to_delete)]\n",
        "\n",
        "batsman.head()"
      ],
      "id": "8b5a5145",
      "execution_count": null,
      "outputs": []
    },
    {
      "cell_type": "code",
      "metadata": {},
      "source": [
        "#to save the players name for future \n",
        "player = batsman['player'].tolist()"
      ],
      "id": "a01cef80",
      "execution_count": null,
      "outputs": []
    },
    {
      "cell_type": "code",
      "metadata": {},
      "source": [
        "# Split the 'span' values into start and end years\n",
        "batsman[['Start_Year', 'End_Year']] = batsman['span'].str.split('-', expand=True).astype(int)\n",
        "\n",
        "# Calculate the duration in years\n",
        "batsman['Span_yrs'] = batsman['End_Year'] - batsman['Start_Year'] + 1  # Adding 1 to include both start and end years\n",
        "\n",
        "# Display the DataFrame with the duration calculated\n",
        "batsman"
      ],
      "id": "5d69afb7",
      "execution_count": null,
      "outputs": []
    },
    {
      "cell_type": "code",
      "metadata": {},
      "source": [
        "#sns.pairplot(batsman)\n",
        "#pl.show()"
      ],
      "id": "5e7fa873",
      "execution_count": null,
      "outputs": []
    },
    {
      "cell_type": "code",
      "metadata": {},
      "source": [
        "batsman = batsman.drop(['player'], axis = 1)\n",
        "batsman.head()"
      ],
      "id": "50a094a5",
      "execution_count": null,
      "outputs": []
    },
    {
      "cell_type": "code",
      "metadata": {},
      "source": [
        "columns=[\"runs\",\"avg\",\"100\"]"
      ],
      "id": "342023cf",
      "execution_count": null,
      "outputs": []
    },
    {
      "cell_type": "code",
      "metadata": {},
      "source": [
        "from sklearn.preprocessing import MinMaxScaler\n",
        "from sklearn.decomposition import PCA\n",
        "\n",
        "# Initialize PCA with the number of components you want to retain\n",
        "n_components = 2  # Adjust as needed\n",
        "pca = PCA(n_components=n_components)\n",
        "\n",
        "# Initialize the MinMaxScaler\n",
        "scaler = MinMaxScaler()\n",
        "\n",
        "# Apply Min-Max scaling to your data\n",
        "scaled_data = scaler.fit_transform(batsman[columns])\n",
        "\n",
        "# Fit and transform PCA on the scaled data\n",
        "batter = pca.fit_transform(scaled_data)\n",
        "\n",
        "batter"
      ],
      "id": "1b9621b2",
      "execution_count": null,
      "outputs": []
    },
    {
      "cell_type": "code",
      "metadata": {},
      "source": [
        "explained_variance = pca.explained_variance_ratio_\n",
        "print(\"Explained variance ratio:\", explained_variance)"
      ],
      "id": "a9594ec2",
      "execution_count": null,
      "outputs": []
    },
    {
      "cell_type": "code",
      "metadata": {},
      "source": [
        "pl.scatter(batter[:, 0], batter[:, 1])\n",
        "pl.xlabel('Principal Component 1')\n",
        "pl.ylabel('Principal Component 2')\n",
        "pl.title('PCA Results')\n",
        "pl.show()"
      ],
      "id": "38d89614",
      "execution_count": null,
      "outputs": []
    },
    {
      "cell_type": "code",
      "metadata": {},
      "source": [
        "component_loadings = pca.components_\n",
        "print(\"Principal component loadings:\", component_loadings)"
      ],
      "id": "e9467724",
      "execution_count": null,
      "outputs": []
    },
    {
      "cell_type": "code",
      "metadata": {},
      "source": [
        "from sklearn.cluster import DBSCAN\n",
        "from sklearn.metrics import silhouette_score\n",
        "\n",
        "\n",
        "# Your data\n",
        "X = batter  # Your data points\n",
        "\n",
        "best_eps = None\n",
        "best_min_samples = None\n",
        "best_score = -1\n",
        "\n",
        "for eps in np.arange(0.1, 1.0, 0.1):  # Adjust the range as needed\n",
        "    for min_samples in range(2, 11):  # Adjust the range as needed\n",
        "        dbscan = DBSCAN(eps=eps, min_samples=min_samples)\n",
        "        labels = dbscan.fit_predict(X)\n",
        "        if len(set(labels)) > 1:  # Ensure more than one cluster is formed\n",
        "            score = silhouette_score(X, labels)\n",
        "            if score > best_score:\n",
        "                best_score = score\n",
        "                best_eps = eps\n",
        "                best_min_samples = min_samples\n",
        "\n",
        "print(f\"Best eps: {best_eps}, Best min_samples: {best_min_samples}, Best Silhouette Score: {best_score}\")"
      ],
      "id": "63db69a4",
      "execution_count": null,
      "outputs": []
    },
    {
      "cell_type": "code",
      "metadata": {},
      "source": [
        "from sklearn.cluster import DBSCAN\n",
        "\n",
        "# Initialize DBSCAN\n",
        "dbscan = DBSCAN(eps=0.2, min_samples=2)\n",
        "\n",
        "# Fit DBSCAN on the PCA-transformed data\n",
        "cluster_labels = dbscan.fit_predict(batter)\n",
        "\n",
        "\n",
        "pl.scatter(batter[:, 0], batter[:, 1], c=cluster_labels, cmap='viridis')\n",
        "pl.xlabel('Principal Component 1')\n",
        "pl.ylabel('Principal Component 2')\n",
        "pl.title('DBSCAN Clustering Results')\n",
        "pl.show()"
      ],
      "id": "0ebc5a55",
      "execution_count": null,
      "outputs": []
    },
    {
      "cell_type": "code",
      "metadata": {},
      "source": [
        "# Assuming 'player' contains the player names and 'cluster_labels' contains the cluster assignments\n",
        "# Create a new DataFrame to combine the results\n",
        "new_batsman = pd.DataFrame({'x': batter[:, 0], 'y': batter[:, 1], 'cluster': cluster_labels, 'player': player})\n",
        "\n",
        "# Display the resulting DataFrame\n",
        "new_batsman"
      ],
      "id": "06f79129",
      "execution_count": null,
      "outputs": []
    },
    {
      "cell_type": "code",
      "metadata": {},
      "source": [
        "# Create a scatter plot with cluster labels\n",
        "pl.figure(figsize=(10, 6))\n",
        "ax = sns.scatterplot(x=\"x\", y=\"y\", hue=\"cluster\", data=new_batsman, palette=\"viridis\", s=100)\n",
        "\n",
        "# Add labels for individual data points\n",
        "for x, y, player, cluster in zip(new_batsman['x'], new_batsman['y'], new_batsman['player'], new_batsman['cluster']):\n",
        "    pl.text(x, y, player, fontsize=10, alpha=0.8)\n",
        "\n",
        "# Set the plot limits and labels\n",
        "ax.set(ylim=(-3, 3))\n",
        "pl.xlabel(\"Principal Component 1\", fontsize=15)\n",
        "pl.ylabel(\"Principal Component 2\", fontsize=15)\n",
        "\n",
        "# Show the legend\n",
        "pl.legend(title='Cluster', loc='upper right', labels=[f'Cluster {label}' for label in new_batsman['cluster'].unique()])\n",
        "\n",
        "# Display the plot\n",
        "pl.show()"
      ],
      "id": "be5fe26b",
      "execution_count": null,
      "outputs": []
    },
    {
      "cell_type": "code",
      "metadata": {},
      "source": [
        "import seaborn as sns\n",
        "import matplotlib.pyplot as plt\n",
        "from sklearn.preprocessing import MinMaxScaler\n",
        "\n",
        "# Set the style\n",
        "sns.set(style=\"white\")\n",
        "\n",
        "# Normalize the \"average\" values\n",
        "scaler = MinMaxScaler()\n",
        "batsman['avg_normalized'] = scaler.fit_transform(batsman[['avg']])\n",
        "\n",
        "# Create a scatter plot with cluster labels and manually set marker size based on \"average\" values\n",
        "plt.figure(figsize=(10, 6))\n",
        "ax = sns.scatterplot(x=\"x\", y=\"y\", hue=\"cluster\", data=new_batsman, palette=\"viridis\", sizes=(50, 500), size=batsman['avg_normalized'])\n",
        "\n",
        "# Add labels for individual data points\n",
        "for x, y, player, cluster in zip(new_batsman['x'], new_batsman['y'], new_batsman['player'], new_batsman['cluster']):\n",
        "    plt.text(x, y, player, fontsize=10, alpha=0.8)\n",
        "\n",
        "# Set the plot limits and labels\n",
        "ax.set(ylim=(-3, 3))\n",
        "plt.xlabel(\"Principal Component 1\", fontsize=15)\n",
        "plt.ylabel(\"Principal Component 2\", fontsize=15)\n",
        "\n",
        "# Show the legend\n",
        "plt.legend(title='Cluster', loc='best', labels=[f'Cluster {label}' for label in new_batsman['cluster'].unique()])\n",
        "\n",
        "# Display the plot\n",
        "plt.show()"
      ],
      "id": "512d9a3a",
      "execution_count": null,
      "outputs": []
    },
    {
      "cell_type": "code",
      "metadata": {},
      "source": [
        "import seaborn as sns\n",
        "import matplotlib.pyplot as plt\n",
        "from sklearn.preprocessing import MinMaxScaler\n",
        "\n",
        "# Set the style\n",
        "sns.set(style=\"white\")\n",
        "\n",
        "# Normalize the \"average\" values\n",
        "scaler = MinMaxScaler()\n",
        "batsman['100_normalized'] = scaler.fit_transform(batsman[['100']])\n",
        "\n",
        "# Create a scatter plot with cluster labels and manually set marker size based on \"average\" values\n",
        "plt.figure(figsize=(10, 6))\n",
        "ax = sns.scatterplot(x=\"x\", y=\"y\", hue=\"cluster\", data=new_batsman, palette=\"viridis\", sizes=(50, 500), size=batsman['100_normalized'])\n",
        "\n",
        "# Add labels for individual data points\n",
        "for x, y, player, cluster in zip(new_batsman['x'], new_batsman['y'], new_batsman['player'], new_batsman['cluster']):\n",
        "    plt.text(x, y, player, fontsize=10, alpha=0.8)\n",
        "\n",
        "# Set the plot limits and labels\n",
        "ax.set(ylim=(-3, 3))\n",
        "plt.xlabel(\"Principal Component 1\", fontsize=15)\n",
        "plt.ylabel(\"Principal Component 2\", fontsize=15)\n",
        "\n",
        "# Show the legend\n",
        "plt.legend(title='Cluster', loc='upper right', labels=[f'Cluster {label}' for label in new_batsman['cluster'].unique()])\n",
        "\n",
        "# Display the plot\n",
        "plt.show()"
      ],
      "id": "82bdfed7",
      "execution_count": null,
      "outputs": []
    }
  ],
  "metadata": {
    "kernelspec": {
      "name": "python3",
      "language": "python",
      "display_name": "Python 3 (ipykernel)"
    }
  },
  "nbformat": 4,
  "nbformat_minor": 5
}